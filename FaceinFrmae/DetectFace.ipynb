{
 "cells": [
  {
   "cell_type": "markdown",
   "id": "5d8fa8bf",
   "metadata": {},
   "source": [
    "## Detect Face in Frame "
   ]
  },
  {
   "cell_type": "code",
   "execution_count": 11,
   "id": "1df33652",
   "metadata": {},
   "outputs": [],
   "source": [
    "import cv2\n",
    "import numpy as np\n",
    "import mediapipe as mp\n",
    "\n",
    "mpFaceDetection=mp.solutions.face_detection\n",
    "faceDetection=mpFaceDetection.FaceDetection()"
   ]
  },
  {
   "cell_type": "code",
   "execution_count": 14,
   "id": "6ee46ad9",
   "metadata": {},
   "outputs": [
    {
     "name": "stdout",
     "output_type": "stream",
     "text": [
      "Face Not Detected\n"
     ]
    }
   ],
   "source": [
    "cap=cv2.VideoCapture(0)\n",
    "while cap.isOpened():\n",
    "    \n",
    "    success,frame=cap.read()\n",
    "    \n",
    "    results=faceDetection.process(cv2.cvtColor(frame,cv2.COLOR_BGR2RGB))\n",
    "    \n",
    "    if not results.detections:\n",
    "        print(\"Face Not Detected\")\n",
    "        \n",
    "         #ALert to show face in frame \n",
    "            \n",
    "    else:\n",
    "        print('Face Detected Moving to Login')\n",
    "        break\n",
    "        # Move to login \n",
    "\n",
    "    \n",
    "    if cv2.waitKey(1) & 0XFF==ord('q'):\n",
    "        break\n",
    "    \n",
    "cap.release()\n",
    "cv2.destroyAllWindows()"
   ]
  },
  {
   "cell_type": "code",
   "execution_count": null,
   "id": "23d14956",
   "metadata": {},
   "outputs": [],
   "source": []
  }
 ],
 "metadata": {
  "kernelspec": {
   "display_name": "Python 3 (ipykernel)",
   "language": "python",
   "name": "python3"
  },
  "language_info": {
   "codemirror_mode": {
    "name": "ipython",
    "version": 3
   },
   "file_extension": ".py",
   "mimetype": "text/x-python",
   "name": "python",
   "nbconvert_exporter": "python",
   "pygments_lexer": "ipython3",
   "version": "3.9.5"
  }
 },
 "nbformat": 4,
 "nbformat_minor": 5
}
